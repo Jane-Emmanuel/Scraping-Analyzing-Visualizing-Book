{
 "cells": [
  {
   "cell_type": "code",
   "execution_count": 2,
   "id": "35ce002d-ad45-469a-b268-3824fc5fd494",
   "metadata": {},
   "outputs": [
    {
     "name": "stdout",
     "output_type": "stream",
     "text": [
      "Requirement already satisfied: requests in c:\\users\\user\\anaconda3\\lib\\site-packages (2.32.3)\n",
      "Requirement already satisfied: beautifulsoup4 in c:\\users\\user\\anaconda3\\lib\\site-packages (4.12.3)\n",
      "Requirement already satisfied: pandas in c:\\users\\user\\anaconda3\\lib\\site-packages (2.2.2)\n",
      "Requirement already satisfied: seaborn in c:\\users\\user\\anaconda3\\lib\\site-packages (0.13.2)\n",
      "Requirement already satisfied: matplotlib in c:\\users\\user\\anaconda3\\lib\\site-packages (3.9.2)\n",
      "Requirement already satisfied: charset-normalizer<4,>=2 in c:\\users\\user\\anaconda3\\lib\\site-packages (from requests) (3.3.2)\n",
      "Requirement already satisfied: idna<4,>=2.5 in c:\\users\\user\\anaconda3\\lib\\site-packages (from requests) (3.7)\n",
      "Requirement already satisfied: urllib3<3,>=1.21.1 in c:\\users\\user\\anaconda3\\lib\\site-packages (from requests) (2.2.3)\n",
      "Requirement already satisfied: certifi>=2017.4.17 in c:\\users\\user\\anaconda3\\lib\\site-packages (from requests) (2024.8.30)\n",
      "Requirement already satisfied: soupsieve>1.2 in c:\\users\\user\\anaconda3\\lib\\site-packages (from beautifulsoup4) (2.5)\n",
      "Requirement already satisfied: numpy>=1.26.0 in c:\\users\\user\\anaconda3\\lib\\site-packages (from pandas) (1.26.4)\n",
      "Requirement already satisfied: python-dateutil>=2.8.2 in c:\\users\\user\\anaconda3\\lib\\site-packages (from pandas) (2.9.0.post0)\n",
      "Requirement already satisfied: pytz>=2020.1 in c:\\users\\user\\anaconda3\\lib\\site-packages (from pandas) (2024.1)\n",
      "Requirement already satisfied: tzdata>=2022.7 in c:\\users\\user\\anaconda3\\lib\\site-packages (from pandas) (2023.3)\n",
      "Requirement already satisfied: contourpy>=1.0.1 in c:\\users\\user\\anaconda3\\lib\\site-packages (from matplotlib) (1.2.0)\n",
      "Requirement already satisfied: cycler>=0.10 in c:\\users\\user\\anaconda3\\lib\\site-packages (from matplotlib) (0.11.0)\n",
      "Requirement already satisfied: fonttools>=4.22.0 in c:\\users\\user\\anaconda3\\lib\\site-packages (from matplotlib) (4.51.0)\n",
      "Requirement already satisfied: kiwisolver>=1.3.1 in c:\\users\\user\\anaconda3\\lib\\site-packages (from matplotlib) (1.4.4)\n",
      "Requirement already satisfied: packaging>=20.0 in c:\\users\\user\\anaconda3\\lib\\site-packages (from matplotlib) (24.1)\n",
      "Requirement already satisfied: pillow>=8 in c:\\users\\user\\anaconda3\\lib\\site-packages (from matplotlib) (10.4.0)\n",
      "Requirement already satisfied: pyparsing>=2.3.1 in c:\\users\\user\\anaconda3\\lib\\site-packages (from matplotlib) (3.1.2)\n",
      "Requirement already satisfied: six>=1.5 in c:\\users\\user\\anaconda3\\lib\\site-packages (from python-dateutil>=2.8.2->pandas) (1.16.0)\n"
     ]
    }
   ],
   "source": [
    "\n",
    "!pip install requests beautifulsoup4 pandas seaborn matplotlib\n"
   ]
  },
  {
   "cell_type": "code",
   "execution_count": 6,
   "id": "93e51857-3adf-4fb9-9207-10022ff70573",
   "metadata": {},
   "outputs": [],
   "source": [
    "import requests\n",
    "from bs4 import BeautifulSoup\n",
    "import pandas as pd\n",
    "import seaborn as sns\n",
    "import matplotlib.pyplot as plt\n",
    "\n",
    "sns.set(style=\"whitegrid\")\n"
   ]
  },
  {
   "cell_type": "code",
   "execution_count": 7,
   "id": "e7144a30-d9f5-423b-a022-914821ba7c5a",
   "metadata": {},
   "outputs": [
    {
     "name": "stdout",
     "output_type": "stream",
     "text": [
      "Scraping: http://books.toscrape.com/catalogue/page-1.html\n",
      "Scraping: http://books.toscrape.com/catalogue/page-2.html\n",
      "Scraping: http://books.toscrape.com/catalogue/page-3.html\n",
      "Scraping: http://books.toscrape.com/catalogue/page-4.html\n",
      "Scraping: http://books.toscrape.com/catalogue/page-5.html\n",
      "Scraping: http://books.toscrape.com/catalogue/page-6.html\n",
      "Scraping: http://books.toscrape.com/catalogue/page-7.html\n",
      "Scraping: http://books.toscrape.com/catalogue/page-8.html\n",
      "Scraping: http://books.toscrape.com/catalogue/page-9.html\n",
      "Scraping: http://books.toscrape.com/catalogue/page-10.html\n",
      "Scraping: http://books.toscrape.com/catalogue/page-11.html\n",
      "Scraping: http://books.toscrape.com/catalogue/page-12.html\n",
      "Scraping: http://books.toscrape.com/catalogue/page-13.html\n",
      "Scraping: http://books.toscrape.com/catalogue/page-14.html\n",
      "Scraping: http://books.toscrape.com/catalogue/page-15.html\n",
      "Scraping: http://books.toscrape.com/catalogue/page-16.html\n",
      "Scraping: http://books.toscrape.com/catalogue/page-17.html\n",
      "Scraping: http://books.toscrape.com/catalogue/page-18.html\n",
      "Scraping: http://books.toscrape.com/catalogue/page-19.html\n",
      "Scraping: http://books.toscrape.com/catalogue/page-20.html\n",
      "Scraping: http://books.toscrape.com/catalogue/page-21.html\n",
      "Scraping: http://books.toscrape.com/catalogue/page-22.html\n",
      "Scraping: http://books.toscrape.com/catalogue/page-23.html\n",
      "Scraping: http://books.toscrape.com/catalogue/page-24.html\n",
      "Scraping: http://books.toscrape.com/catalogue/page-25.html\n",
      "Scraping: http://books.toscrape.com/catalogue/page-26.html\n",
      "Scraping: http://books.toscrape.com/catalogue/page-27.html\n",
      "Scraping: http://books.toscrape.com/catalogue/page-28.html\n",
      "Scraping: http://books.toscrape.com/catalogue/page-29.html\n",
      "Scraping: http://books.toscrape.com/catalogue/page-30.html\n",
      "Scraping: http://books.toscrape.com/catalogue/page-31.html\n",
      "Scraping: http://books.toscrape.com/catalogue/page-32.html\n",
      "Scraping: http://books.toscrape.com/catalogue/page-33.html\n",
      "Scraping: http://books.toscrape.com/catalogue/page-34.html\n",
      "Scraping: http://books.toscrape.com/catalogue/page-35.html\n",
      "Scraping: http://books.toscrape.com/catalogue/page-36.html\n",
      "Scraping: http://books.toscrape.com/catalogue/page-37.html\n",
      "Scraping: http://books.toscrape.com/catalogue/page-38.html\n",
      "Scraping: http://books.toscrape.com/catalogue/page-39.html\n",
      "Scraping: http://books.toscrape.com/catalogue/page-40.html\n",
      "Scraping: http://books.toscrape.com/catalogue/page-41.html\n",
      "Scraping: http://books.toscrape.com/catalogue/page-42.html\n",
      "Scraping: http://books.toscrape.com/catalogue/page-43.html\n",
      "Scraping: http://books.toscrape.com/catalogue/page-44.html\n",
      "Scraping: http://books.toscrape.com/catalogue/page-45.html\n",
      "Scraping: http://books.toscrape.com/catalogue/page-46.html\n",
      "Scraping: http://books.toscrape.com/catalogue/page-47.html\n",
      "Scraping: http://books.toscrape.com/catalogue/page-48.html\n",
      "Scraping: http://books.toscrape.com/catalogue/page-49.html\n",
      "Scraping: http://books.toscrape.com/catalogue/page-50.html\n",
      "Scraping complete. Total books: 1000\n"
     ]
    },
    {
     "data": {
      "text/html": [
       "<div>\n",
       "<style scoped>\n",
       "    .dataframe tbody tr th:only-of-type {\n",
       "        vertical-align: middle;\n",
       "    }\n",
       "\n",
       "    .dataframe tbody tr th {\n",
       "        vertical-align: top;\n",
       "    }\n",
       "\n",
       "    .dataframe thead th {\n",
       "        text-align: right;\n",
       "    }\n",
       "</style>\n",
       "<table border=\"1\" class=\"dataframe\">\n",
       "  <thead>\n",
       "    <tr style=\"text-align: right;\">\n",
       "      <th></th>\n",
       "      <th>Title</th>\n",
       "      <th>Price</th>\n",
       "      <th>Availability</th>\n",
       "      <th>Rating</th>\n",
       "      <th>Product_URL</th>\n",
       "    </tr>\n",
       "  </thead>\n",
       "  <tbody>\n",
       "    <tr>\n",
       "      <th>0</th>\n",
       "      <td>A Light in the Attic</td>\n",
       "      <td>£51.77</td>\n",
       "      <td>In stock</td>\n",
       "      <td>Three</td>\n",
       "      <td>http://books.toscrape.com/catalogue/a-light-in...</td>\n",
       "    </tr>\n",
       "    <tr>\n",
       "      <th>1</th>\n",
       "      <td>Tipping the Velvet</td>\n",
       "      <td>£53.74</td>\n",
       "      <td>In stock</td>\n",
       "      <td>One</td>\n",
       "      <td>http://books.toscrape.com/catalogue/tipping-th...</td>\n",
       "    </tr>\n",
       "    <tr>\n",
       "      <th>2</th>\n",
       "      <td>Soumission</td>\n",
       "      <td>£50.10</td>\n",
       "      <td>In stock</td>\n",
       "      <td>One</td>\n",
       "      <td>http://books.toscrape.com/catalogue/soumission...</td>\n",
       "    </tr>\n",
       "    <tr>\n",
       "      <th>3</th>\n",
       "      <td>Sharp Objects</td>\n",
       "      <td>£47.82</td>\n",
       "      <td>In stock</td>\n",
       "      <td>Four</td>\n",
       "      <td>http://books.toscrape.com/catalogue/sharp-obje...</td>\n",
       "    </tr>\n",
       "    <tr>\n",
       "      <th>4</th>\n",
       "      <td>Sapiens: A Brief History of Humankind</td>\n",
       "      <td>£54.23</td>\n",
       "      <td>In stock</td>\n",
       "      <td>Five</td>\n",
       "      <td>http://books.toscrape.com/catalogue/sapiens-a-...</td>\n",
       "    </tr>\n",
       "  </tbody>\n",
       "</table>\n",
       "</div>"
      ],
      "text/plain": [
       "                                   Title   Price Availability Rating  \\\n",
       "0                   A Light in the Attic  £51.77     In stock  Three   \n",
       "1                     Tipping the Velvet  £53.74     In stock    One   \n",
       "2                             Soumission  £50.10     In stock    One   \n",
       "3                          Sharp Objects  £47.82     In stock   Four   \n",
       "4  Sapiens: A Brief History of Humankind  £54.23     In stock   Five   \n",
       "\n",
       "                                         Product_URL  \n",
       "0  http://books.toscrape.com/catalogue/a-light-in...  \n",
       "1  http://books.toscrape.com/catalogue/tipping-th...  \n",
       "2  http://books.toscrape.com/catalogue/soumission...  \n",
       "3  http://books.toscrape.com/catalogue/sharp-obje...  \n",
       "4  http://books.toscrape.com/catalogue/sapiens-a-...  "
      ]
     },
     "execution_count": 7,
     "metadata": {},
     "output_type": "execute_result"
    }
   ],
   "source": [
    "base_url = \"http://books.toscrape.com/\"\n",
    "page_url = \"http://books.toscrape.com/catalogue/page-1.html\"\n",
    "headers = {\"User-Agent\": \"Mozilla/5.0\"}\n",
    "\n",
    "book_data = []\n",
    "\n",
    "while True:\n",
    "    print(f\"Scraping: {page_url}\")\n",
    "    response = requests.get(page_url, headers=headers)\n",
    "    soup = BeautifulSoup(response.content, \"html.parser\")\n",
    "\n",
    "    books = soup.find_all(\"article\", class_=\"product_pod\")\n",
    "\n",
    "    for book in books:\n",
    "        title = book.h3.a[\"title\"]\n",
    "        price = book.find(\"p\", class_=\"price_color\").text\n",
    "        availability = book.find(\"p\", class_=\"instock availability\").text.strip()\n",
    "        rating_class = book.find(\"p\", class_=\"star-rating\")[\"class\"]\n",
    "        rating = rating_class[1]\n",
    "        relative_url = book.h3.a[\"href\"]\n",
    "        product_url = base_url + \"catalogue/\" + relative_url.replace(\"../../../\", \"\")\n",
    "\n",
    "        book_data.append({\n",
    "            \"Title\": title,\n",
    "            \"Price\": price,\n",
    "            \"Availability\": availability,\n",
    "            \"Rating\": rating,\n",
    "            \"Product_URL\": product_url\n",
    "        })\n",
    "\n",
    "    next_button = soup.find(\"li\", class_=\"next\")\n",
    "    if next_button:\n",
    "        next_page = next_button.a[\"href\"]\n",
    "        page_url = \"http://books.toscrape.com/catalogue/\" + next_page\n",
    "    else:\n",
    "        break\n",
    "\n",
    "# Convert to DataFrame\n",
    "df = pd.DataFrame(book_data)\n",
    "df.to_csv(\"all_books.csv\", index=False)\n",
    "\n",
    "print(\"Scraping complete. Total books:\", len(df))\n",
    "df.head()\n"
   ]
  },
  {
   "cell_type": "markdown",
   "id": "50fbc950-b634-40c8-a50e-12eebaa2e68b",
   "metadata": {},
   "source": [
    "### 🧼 Data Cleaning\n",
    "We’ll clean the Price column to convert it from string (£ format) to numeric format so we can perform analysis.\n"
   ]
  },
  {
   "cell_type": "code",
   "execution_count": 9,
   "id": "dc4dc411-df93-4e04-9525-78190bb9777d",
   "metadata": {},
   "outputs": [],
   "source": [
    "df[\"Price\"] = df[\"Price\"].replace(\"£\", \"\", regex=True).astype(float)\n"
   ]
  },
  {
   "cell_type": "markdown",
   "id": "1e8c34b9-89bb-4366-871e-e2082c8d0237",
   "metadata": {},
   "source": [
    "### Rating Distribution\n",
    "Since the rating values were already extracted cleanly during scraping, no further filtering is required here. We will now visualize how many books fall under each rating category.\n"
   ]
  },
  {
   "cell_type": "code",
   "execution_count": 17,
   "id": "0914dd4f-0fa8-4bd6-9e0b-b0cb0f40d7c9",
   "metadata": {},
   "outputs": [
    {
     "data": {
      "image/png": "[encoded data removed]",
      "text/plain": [
       "<Figure size 640x480 with 1 Axes>"
      ]
     },
     "metadata": {},
     "output_type": "display_data"
    }
   ],
   "source": [
    "sns.countplot(x=\"Rating\", hue=\"Rating\", data=df, order=[\"One\", \"Two\", \"Three\", \"Four\", \"Five\"], palette=\"viridis\", legend=False)\n",
    "\n",
    "plt.title(\"Book Rating Distribution\")\n",
    "plt.xlabel(\"Rating\")\n",
    "plt.ylabel(\"Number of Books\")\n",
    "plt.savefig(\"rating_distribution.png\")\n",
    "plt.show()\n"
   ]
  },
  {
   "cell_type": "markdown",
   "id": "bd63f352-575c-4bde-aba2-8f5c458e50a3",
   "metadata": {},
   "source": [
    "###  Price Distribution\n",
    "Now let’s analyze the distribution of book prices to understand the typical pricing range.\n"
   ]
  },
  {
   "cell_type": "code",
   "execution_count": 11,
   "id": "5c1a0795-f7da-4784-8e4f-07ad65233bd4",
   "metadata": {},
   "outputs": [
    {
     "data": {
      "image/png": "[encoded data removed]",
      "text/plain": [
       "<Figure size 1000x500 with 1 Axes>"
      ]
     },
     "metadata": {},
     "output_type": "display_data"
    }
   ],
   "source": [
    "plt.figure(figsize=(10, 5))\n",
    "sns.histplot(df[\"Price\"], bins=20, kde=True, color=\"skyblue\")\n",
    "plt.title(\"Price Distribution of Books\")\n",
    "plt.xlabel(\"Price (£)\")\n",
    "plt.ylabel(\"Frequency\")\n",
    "plt.savefig(\"price_distribution.png\")\n",
    "plt.show()\n"
   ]
  },
  {
   "cell_type": "markdown",
   "id": "0f91a45f-a00f-4f21-9f8f-d846f4131ea4",
   "metadata": {},
   "source": [
    "###  Average Price by Rating\n",
    "We'll calculate the average book price for each rating category to check if higher-rated books tend to be more expensive.\n"
   ]
  },
  {
   "cell_type": "code",
   "execution_count": 12,
   "id": "268855b4-2475-4c79-9a50-94c8dd1580ec",
   "metadata": {},
   "outputs": [
    {
     "data": {
      "image/png": "[encoded data removed]",
      "text/plain": [
       "<Figure size 640x480 with 1 Axes>"
      ]
     },
     "metadata": {},
     "output_type": "display_data"
    }
   ],
   "source": [
    "avg_price_rating = df.groupby(\"Rating\")[\"Price\"].mean().reindex([\"One\", \"Two\", \"Three\", \"Four\", \"Five\"])\n",
    "avg_price_rating.plot(kind=\"bar\", color=\"coral\")\n",
    "plt.title(\"Average Book Price by Rating\")\n",
    "plt.xlabel(\"Rating\")\n",
    "plt.ylabel(\"Average Price (£)\")\n",
    "plt.savefig(\"avg_price_by_rating.png\")\n",
    "plt.show()\n"
   ]
  },
  {
   "cell_type": "markdown",
   "id": "c586908c-7a97-4261-9cdc-05166386ad0f",
   "metadata": {},
   "source": [
    "###  Book Availability\n",
    "Let's explore how many books are listed as \"In Stock\" or otherwise, and visualize this count.\n"
   ]
  },
  {
   "cell_type": "code",
   "execution_count": 18,
   "id": "92cdcf1f-d614-4b36-8018-06f418866d0f",
   "metadata": {},
   "outputs": [
    {
     "data": {
      "image/png": "[encoded data removed]",
      "text/plain": [
       "<Figure size 640x480 with 1 Axes>"
      ]
     },
     "metadata": {},
     "output_type": "display_data"
    }
   ],
   "source": [
    "sns.countplot(y=\"Availability\", hue=\"Availability\", data=df, palette=\"Set2\", legend=False)\n",
    "\n",
    "plt.title(\"Availability of Books\")\n",
    "plt.xlabel(\"Number of Books\")\n",
    "plt.ylabel(\"Availability\")\n",
    "plt.savefig(\"availability.png\")\n",
    "plt.show()\n"
   ]
  },
  {
   "cell_type": "markdown",
   "id": "2543e398-2e1c-44ed-bc6b-73e060533c9a",
   "metadata": {},
   "source": [
    "## Keyword Frequency Analysis\n",
    "After visualizing book ratings, prices, and availability, we perform a text analysis on the book titles to understand the most commonly used words.\n",
    "\n",
    "This helps identify patterns or themes in the types of books listed. For instance, frequent keywords like “Story,” “Life,” or “Guide” might indicate popular genres or topics. It adds a layer of natural language insight to our dataset.\n",
    "\n",
    "We use Counter from Python’s collections module and re for regex-based tokenization."
   ]
  },
  {
   "cell_type": "code",
   "execution_count": 20,
   "id": "216b36cd-db9d-4555-99da-bc494dca298b",
   "metadata": {},
   "outputs": [
    {
     "data": {
      "text/html": [
       "<div>\n",
       "<style scoped>\n",
       "    .dataframe tbody tr th:only-of-type {\n",
       "        vertical-align: middle;\n",
       "    }\n",
       "\n",
       "    .dataframe tbody tr th {\n",
       "        vertical-align: top;\n",
       "    }\n",
       "\n",
       "    .dataframe thead th {\n",
       "        text-align: right;\n",
       "    }\n",
       "</style>\n",
       "<table border=\"1\" class=\"dataframe\">\n",
       "  <thead>\n",
       "    <tr style=\"text-align: right;\">\n",
       "      <th></th>\n",
       "      <th>Word</th>\n",
       "      <th>Frequency</th>\n",
       "    </tr>\n",
       "  </thead>\n",
       "  <tbody>\n",
       "    <tr>\n",
       "      <th>0</th>\n",
       "      <td>the</td>\n",
       "      <td>632</td>\n",
       "    </tr>\n",
       "    <tr>\n",
       "      <th>1</th>\n",
       "      <td>of</td>\n",
       "      <td>256</td>\n",
       "    </tr>\n",
       "    <tr>\n",
       "      <th>2</th>\n",
       "      <td>1</td>\n",
       "      <td>206</td>\n",
       "    </tr>\n",
       "    <tr>\n",
       "      <th>3</th>\n",
       "      <td>and</td>\n",
       "      <td>186</td>\n",
       "    </tr>\n",
       "    <tr>\n",
       "      <th>4</th>\n",
       "      <td>a</td>\n",
       "      <td>167</td>\n",
       "    </tr>\n",
       "    <tr>\n",
       "      <th>5</th>\n",
       "      <td>to</td>\n",
       "      <td>91</td>\n",
       "    </tr>\n",
       "    <tr>\n",
       "      <th>6</th>\n",
       "      <td>s</td>\n",
       "      <td>83</td>\n",
       "    </tr>\n",
       "    <tr>\n",
       "      <th>7</th>\n",
       "      <td>in</td>\n",
       "      <td>74</td>\n",
       "    </tr>\n",
       "    <tr>\n",
       "      <th>8</th>\n",
       "      <td>2</td>\n",
       "      <td>60</td>\n",
       "    </tr>\n",
       "    <tr>\n",
       "      <th>9</th>\n",
       "      <td>for</td>\n",
       "      <td>58</td>\n",
       "    </tr>\n",
       "  </tbody>\n",
       "</table>\n",
       "</div>"
      ],
      "text/plain": [
       "  Word  Frequency\n",
       "0  the        632\n",
       "1   of        256\n",
       "2    1        206\n",
       "3  and        186\n",
       "4    a        167\n",
       "5   to         91\n",
       "6    s         83\n",
       "7   in         74\n",
       "8    2         60\n",
       "9  for         58"
      ]
     },
     "execution_count": 20,
     "metadata": {},
     "output_type": "execute_result"
    }
   ],
   "source": [
    "from collections import Counter\n",
    "import re\n",
    "\n",
    "all_words = \" \".join(df[\"Title\"]).lower()\n",
    "word_list = re.findall(r'\\b\\w+\\b', all_words)\n",
    "word_freq = Counter(word_list)\n",
    "\n",
    "# Top 10 common words\n",
    "top_words = dict(word_freq.most_common(10))\n",
    "pd.DataFrame(list(top_words.items()), columns=[\"Word\", \"Frequency\"])\n"
   ]
  },
  {
   "cell_type": "code",
   "execution_count": 22,
   "id": "767e3dde-1701-4d3c-b23e-b49c0902417f",
   "metadata": {},
   "outputs": [
    {
     "data": {
      "image/png": "[encoded data removed]",
      "text/plain": [
       "<Figure size 1000x600 with 1 Axes>"
      ]
     },
     "metadata": {},
     "output_type": "display_data"
    }
   ],
   "source": [
    "import matplotlib.pyplot as plt\n",
    "\n",
    "# Create a DataFrame from the top words\n",
    "top_words_df = pd.DataFrame(list(top_words.items()), columns=[\"Word\", \"Frequency\"])\n",
    "\n",
    "plt.figure(figsize=(10, 6))\n",
    "sns.barplot(\n",
    "    x=\"Frequency\",\n",
    "    y=\"Word\",\n",
    "    hue=\"Word\",  # Assigning the same variable as y\n",
    "    data=top_words_df,\n",
    "    palette=\"Blues_d\",\n",
    "    legend=False  # Prevents redundant legend\n",
    ")\n",
    "plt.title(\"Top 10 Most Common Words in Book Titles\")\n",
    "plt.xlabel(\"Frequency\")\n",
    "plt.ylabel(\"Word\")\n",
    "plt.tight_layout()\n",
    "plt.show()\n",
    "\n"
   ]
  },
  {
   "cell_type": "markdown",
   "id": "e1f2da4d-6f0d-4f99-8bab-f3cec264cf16",
   "metadata": {},
   "source": [
    "## Top 5 Most Expensive Books"
   ]
  },
  {
   "cell_type": "code",
   "execution_count": 23,
   "id": "d7169460-298a-4d2f-936c-5378a9027e3c",
   "metadata": {},
   "outputs": [
    {
     "data": {
      "text/html": [
       "<div>\n",
       "<style scoped>\n",
       "    .dataframe tbody tr th:only-of-type {\n",
       "        vertical-align: middle;\n",
       "    }\n",
       "\n",
       "    .dataframe tbody tr th {\n",
       "        vertical-align: top;\n",
       "    }\n",
       "\n",
       "    .dataframe thead th {\n",
       "        text-align: right;\n",
       "    }\n",
       "</style>\n",
       "<table border=\"1\" class=\"dataframe\">\n",
       "  <thead>\n",
       "    <tr style=\"text-align: right;\">\n",
       "      <th></th>\n",
       "      <th>Title</th>\n",
       "      <th>Price</th>\n",
       "      <th>Rating</th>\n",
       "      <th>Product_URL</th>\n",
       "    </tr>\n",
       "  </thead>\n",
       "  <tbody>\n",
       "    <tr>\n",
       "      <th>648</th>\n",
       "      <td>The Perfect Play (Play by Play #1)</td>\n",
       "      <td>59.99</td>\n",
       "      <td>Three</td>\n",
       "      <td>http://books.toscrape.com/catalogue/the-perfec...</td>\n",
       "    </tr>\n",
       "    <tr>\n",
       "      <th>617</th>\n",
       "      <td>Last One Home (New Beginnings #1)</td>\n",
       "      <td>59.98</td>\n",
       "      <td>Three</td>\n",
       "      <td>http://books.toscrape.com/catalogue/last-one-h...</td>\n",
       "    </tr>\n",
       "    <tr>\n",
       "      <th>860</th>\n",
       "      <td>Civilization and Its Discontents</td>\n",
       "      <td>59.95</td>\n",
       "      <td>Two</td>\n",
       "      <td>http://books.toscrape.com/catalogue/civilizati...</td>\n",
       "    </tr>\n",
       "    <tr>\n",
       "      <th>560</th>\n",
       "      <td>The Barefoot Contessa Cookbook</td>\n",
       "      <td>59.92</td>\n",
       "      <td>Five</td>\n",
       "      <td>http://books.toscrape.com/catalogue/the-barefo...</td>\n",
       "    </tr>\n",
       "    <tr>\n",
       "      <th>366</th>\n",
       "      <td>The Diary of a Young Girl</td>\n",
       "      <td>59.90</td>\n",
       "      <td>Three</td>\n",
       "      <td>http://books.toscrape.com/catalogue/the-diary-...</td>\n",
       "    </tr>\n",
       "  </tbody>\n",
       "</table>\n",
       "</div>"
      ],
      "text/plain": [
       "                                  Title  Price Rating  \\\n",
       "648  The Perfect Play (Play by Play #1)  59.99  Three   \n",
       "617   Last One Home (New Beginnings #1)  59.98  Three   \n",
       "860    Civilization and Its Discontents  59.95    Two   \n",
       "560      The Barefoot Contessa Cookbook  59.92   Five   \n",
       "366           The Diary of a Young Girl  59.90  Three   \n",
       "\n",
       "                                           Product_URL  \n",
       "648  http://books.toscrape.com/catalogue/the-perfec...  \n",
       "617  http://books.toscrape.com/catalogue/last-one-h...  \n",
       "860  http://books.toscrape.com/catalogue/civilizati...  \n",
       "560  http://books.toscrape.com/catalogue/the-barefo...  \n",
       "366  http://books.toscrape.com/catalogue/the-diary-...  "
      ]
     },
     "execution_count": 23,
     "metadata": {},
     "output_type": "execute_result"
    }
   ],
   "source": [
    "df.sort_values(\"Price\", ascending=False).head(5)[[\"Title\", \"Price\", \"Rating\", \"Product_URL\"]]\n"
   ]
  },
  {
   "cell_type": "markdown",
   "id": "0fd50aa3-5004-47a6-ab9b-b0964839f9f0",
   "metadata": {},
   "source": [
    "## Streamlit Dashboard\n",
    "Creating a simple app to explore data interactively"
   ]
  },
  {
   "cell_type": "markdown",
   "id": "640c099a-6be4-4948-ae3b-fcf50349144e",
   "metadata": {},
   "source": [
    "## 1. streamlit_app.py (Home page + Sidebar Metrics)"
   ]
  },
  {
   "cell_type": "code",
   "execution_count": null,
   "id": "8adfa217-65dd-4ff3-a201-207cf690d20d",
   "metadata": {},
   "outputs": [],
   "source": []
  },
  {
   "cell_type": "code",
   "execution_count": null,
   "id": "50dfd325-14c3-4cf6-97aa-983dc2b798ea",
   "metadata": {},
   "outputs": [],
   "source": [
    "import streamlit as st\n",
    "import pandas as pd\n",
    "\n",
    "# Load data once\n",
    "@st.cache_data\n",
    "def load_data():\n",
    "    df = pd.read_csv(\"all_books.csv\")\n",
    "    df[\"Price\"] = df[\"Price\"].str.replace(\"£\", \"\").astype(float)\n",
    "    return df\n",
    "\n",
    "df = load_data()\n",
    "\n",
    "st.set_page_config(page_title=\"Books Dashboard\", layout=\"wide\")\n",
    "\n",
    "# Sidebar with metrics\n",
    "st.sidebar.title(\"📚 Books Summary\")\n",
    "\n",
    "total_books = len(df)\n",
    "avg_price = df[\"Price\"].mean()\n",
    "unique_ratings = df[\"Rating\"].nunique()\n",
    "availability_counts = df[\"Availability\"].value_counts().to_dict()\n",
    "\n",
    "st.sidebar.metric(\"Total Books\", total_books)\n",
    "st.sidebar.metric(\"Avg Price (£)\", f\"{avg_price:.2f}\")\n",
    "st.sidebar.metric(\"Rating Categories\", unique_ratings)\n",
    "st.sidebar.markdown(\"### Availability\")\n",
    "for key, val in availability_counts.items():\n",
    "    st.sidebar.write(f\"- {key}: {val}\")\n",
    "\n",
    "# Main page content\n",
    "st.title(\"📘 Books Dashboard\")\n",
    "st.markdown(\"\"\"\n",
    "Welcome to the **Books to Scrape Dashboard**!\n",
    "\n",
    "Use the left sidebar to navigate through:\n",
    "- 🔎 Filter and Explore the Data  \n",
    "- 📊 Visual Insights  \n",
    "- 🧠 Word Frequency in Titles\n",
    "\n",
    "---\n",
    "\"\"\")\n"
   ]
  },
  {
   "cell_type": "markdown",
   "id": "fb9a39ce-3c03-46a3-9cd0-a2fbef7c5423",
   "metadata": {},
   "source": [
    "## 2. pages/1_Filter_and_Data.py"
   ]
  },
  {
   "cell_type": "code",
   "execution_count": null,
   "id": "81227f5f-1d55-4746-81df-936e29216d19",
   "metadata": {},
   "outputs": [],
   "source": []
  },
  {
   "cell_type": "code",
   "execution_count": null,
   "id": "8d6e13e4-817f-44d3-8463-c3c4e821519b",
   "metadata": {},
   "outputs": [],
   "source": [
    "import streamlit as st\n",
    "import pandas as pd\n",
    "\n",
    "@st.cache_data\n",
    "def load_data():\n",
    "    df = pd.read_csv(\"all_books.csv\")\n",
    "    return df\n",
    "\n",
    "df = load_data()\n",
    "\n",
    "st.title(\"🔍 Filter and Explore Books\")\n",
    "\n",
    "rating_options = df[\"Rating\"].unique().tolist()\n",
    "availability_options = df[\"Availability\"].unique().tolist()\n",
    "\n",
    "selected_ratings = st.multiselect(\"Select Ratings\", rating_options, default=rating_options)\n",
    "selected_avail = st.multiselect(\"Select Availability\", availability_options, default=availability_options)\n",
    "\n",
    "filtered_df = df[df[\"Rating\"].isin(selected_ratings) & df[\"Availability\"].isin(selected_avail)]\n",
    "\n",
    "st.dataframe(filtered_df)\n",
    "st.markdown(f\"**Total books after filter: {len(filtered_df)}**\")\n"
   ]
  },
  {
   "cell_type": "markdown",
   "id": "b78cf323-ffff-48ef-9280-633107b44726",
   "metadata": {},
   "source": [
    "## 3. pages/2_Visualizations.py"
   ]
  },
  {
   "cell_type": "code",
   "execution_count": null,
   "id": "40a70537-2743-467b-a17b-8948cb084983",
   "metadata": {},
   "outputs": [],
   "source": [
    "import streamlit as st\n",
    "import pandas as pd\n",
    "import seaborn as sns\n",
    "import matplotlib.pyplot as plt\n",
    "import warnings\n",
    "\n",
    "sns.set(style=\"whitegrid\")\n",
    "warnings.simplefilter(action='ignore', category=FutureWarning)\n",
    "\n",
    "@st.cache_data\n",
    "def load_data():\n",
    "    df = pd.read_csv(\"all_books.csv\")\n",
    "    df[\"Price\"] = df[\"Price\"].str.replace(\"£\", \"\").astype(float)\n",
    "    return df\n",
    "\n",
    "df = load_data()\n",
    "\n",
    "st.title(\"📊 Visual Analysis\")\n",
    "\n",
    "with st.expander(\"⭐ Rating Distribution\"):\n",
    "    fig, ax = plt.subplots()\n",
    "    sns.countplot(x=\"Rating\", data=df, order=[\"One\", \"Two\", \"Three\", \"Four\", \"Five\"], hue=\"Rating\", palette=\"viridis\", legend=False)\n",
    "    ax.set_title(\"Rating Distribution\")\n",
    "    st.pyplot(fig)\n",
    "\n",
    "with st.expander(\"💵 Price Distribution\"):\n",
    "    fig, ax = plt.subplots()\n",
    "    sns.histplot(df[\"Price\"], bins=20, kde=True, color=\"skyblue\")\n",
    "    ax.set_title(\"Price Distribution\")\n",
    "    st.pyplot(fig)\n",
    "\n",
    "with st.expander(\"📈 Avg Price by Rating\"):\n",
    "    avg_price = df.groupby(\"Rating\")[\"Price\"].mean().reindex([\"One\", \"Two\", \"Three\", \"Four\", \"Five\"])\n",
    "    fig, ax = plt.subplots()\n",
    "    avg_price.plot(kind=\"bar\", color=\"coral\", ax=ax)\n",
    "    ax.set_title(\"Average Price by Rating\")\n",
    "    st.pyplot(fig)\n",
    "\n",
    "with st.expander(\"✅ Book Availability\"):\n",
    "    fig, ax = plt.subplots()\n",
    "    sns.countplot(y=\"Availability\", data=df, hue=\"Availability\", palette=\"Set2\", legend=False)\n",
    "    ax.set_title(\"Book Availability\")\n",
    "    st.pyplot(fig)\n"
   ]
  },
  {
   "cell_type": "markdown",
   "id": "19d13d12-0e06-4bc7-b10f-2fe729db2d1e",
   "metadata": {},
   "source": [
    "## 4. pages/3_Word_Frequency.py"
   ]
  },
  {
   "cell_type": "code",
   "execution_count": null,
   "id": "75e749f2-dbda-48aa-99bd-23154ecc302c",
   "metadata": {},
   "outputs": [],
   "source": [
    "import streamlit as st\n",
    "import pandas as pd\n",
    "from collections import Counter\n",
    "import re\n",
    "import seaborn as sns\n",
    "import matplotlib.pyplot as plt\n",
    "\n",
    "@st.cache_data\n",
    "def load_data():\n",
    "    return pd.read_csv(\"all_books.csv\")\n",
    "\n",
    "df = load_data()\n",
    "\n",
    "st.title(\"🧠 Word Frequency in Titles\")\n",
    "\n",
    "all_words = \" \".join(df[\"Title\"]).lower()\n",
    "word_list = re.findall(r'\\b\\w+\\b', all_words)\n",
    "word_freq = Counter(word_list)\n",
    "\n",
    "top_words = dict(word_freq.most_common(10))\n",
    "top_words_df = pd.DataFrame(list(top_words.items()), columns=[\"Word\", \"Frequency\"])\n",
    "\n",
    "st.dataframe(top_words_df)\n",
    "\n",
    "fig, ax = plt.subplots()\n",
    "sns.barplot(x=\"Frequency\", y=\"Word\", data=top_words_df, palette=\"mako\")\n",
    "ax.set_title(\"Top 10 Common Words in Titles\")\n",
    "st.pyplot(fig)\n"
   ]
  },
  {
   "cell_type": "code",
   "execution_count": null,
   "id": "24869240-7266-4ea8-a176-3403bed15be4",
   "metadata": {},
   "outputs": [],
   "source": []
  }
 ],
 "metadata": {
  "kernelspec": {
   "display_name": "Python 3 (ipykernel)",
   "language": "python",
   "name": "python3"
  },
  "language_info": {
   "codemirror_mode": {
    "name": "ipython",
    "version": 3
   },
   "file_extension": ".py",
   "mimetype": "text/x-python",
   "name": "python",
   "nbconvert_exporter": "python",
   "pygments_lexer": "ipython3",
   "version": "3.12.7"
  }
 },
 "nbformat": 4,
 "nbformat_minor": 5
}
